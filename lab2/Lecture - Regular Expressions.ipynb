{
 "cells": [
  {
   "cell_type": "code",
   "execution_count": 1,
   "metadata": {},
   "outputs": [],
   "source": [
    "import re"
   ]
  },
  {
   "cell_type": "markdown",
   "metadata": {},
   "source": [
    "# Match specific characters"
   ]
  },
  {
   "cell_type": "markdown",
   "metadata": {},
   "source": [
    "Search for character 'a','b' and 'c'"
   ]
  },
  {
   "cell_type": "code",
   "execution_count": 2,
   "metadata": {},
   "outputs": [
    {
     "name": "stdout",
     "output_type": "stream",
     "text": [
      "Matches using [abc]: ['a', 'b', 'a', 'a', 'a', 'c', 'a', 'b', 'c']\n"
     ]
    }
   ],
   "source": [
    "text = \"apple, banana, cherry, abc, xyz\"\n",
    "\n",
    "#Method 1\n",
    "pattern1 = r\"[abc]\"\n",
    "matches1 = re.findall(pattern1, text)\n",
    "print(\"Matches using [abc]:\", matches1)"
   ]
  },
  {
   "cell_type": "code",
   "execution_count": 3,
   "metadata": {},
   "outputs": [
    {
     "name": "stdout",
     "output_type": "stream",
     "text": [
      "Matches using [a-c]: ['a', 'b', 'a', 'a', 'a', 'c', 'a', 'b', 'c']\n"
     ]
    }
   ],
   "source": [
    "#Method 2\n",
    "pattern2 = r\"[a-c]\"\n",
    "matches2 = re.findall(pattern2, text)\n",
    "print(\"Matches using [a-c]:\", matches2)"
   ]
  },
  {
   "cell_type": "markdown",
   "metadata": {},
   "source": [
    "Search for character 'a','b' and '*'"
   ]
  },
  {
   "cell_type": "code",
   "execution_count": 4,
   "metadata": {},
   "outputs": [
    {
     "name": "stdout",
     "output_type": "stream",
     "text": [
      "Matches using [ab\\*]: ['a', '*', 'b', 'a', 'b', 'a', 'b', '*']\n"
     ]
    }
   ],
   "source": [
    "text = \"a*b abc ab*\"\n",
    "\n",
    "pattern = r\"[ab\\*]\"\n",
    "matches = re.findall(pattern, text)\n",
    "print(\"Matches using [ab\\\\*]:\", matches)"
   ]
  },
  {
   "cell_type": "markdown",
   "metadata": {},
   "source": [
    "# ^ Metacharacter - Complementary of the set"
   ]
  },
  {
   "cell_type": "code",
   "execution_count": 5,
   "metadata": {},
   "outputs": [
    {
     "name": "stdout",
     "output_type": "stream",
     "text": [
      "Characters other than 'a': ['p', 'p', 'l', 'e', ' ', 'b', 'n', 'n', ' ', 'v', 'o', 'c', 'd', 'o']\n"
     ]
    }
   ],
   "source": [
    "text = \"apple banana avocado\"\n",
    "\n",
    "# Pattern to match all characters except 'a'\n",
    "pattern = r\"[^a]\"\n",
    "\n",
    "# Find all matches\n",
    "matches = re.findall(pattern, text)\n",
    "\n",
    "print(\"Characters other than 'a':\", matches)"
   ]
  },
  {
   "cell_type": "code",
   "execution_count": 6,
   "metadata": {},
   "outputs": [
    {
     "name": "stdout",
     "output_type": "stream",
     "text": [
      "Characters 'a' or '^': ['a', '^', 'a', '^']\n"
     ]
    }
   ],
   "source": [
    "text = \"a ^ b a^c\"\n",
    "\n",
    "# Pattern to match either 'a' or '^'\n",
    "pattern = r\"[a^]\"\n",
    "\n",
    "# Find all matches\n",
    "matches = re.findall(pattern, text)\n",
    "\n",
    "print(\"Characters 'a' or '^':\", matches)"
   ]
  },
  {
   "cell_type": "markdown",
   "metadata": {},
   "source": [
    "# \\ Metacharacter"
   ]
  },
  {
   "cell_type": "code",
   "execution_count": 7,
   "metadata": {},
   "outputs": [
    {
     "name": "stdout",
     "output_type": "stream",
     "text": [
      "Matches using \\d: ['1', '2', '3', '4', '5', '6', '7']\n",
      "Matches using [0-9]: ['1', '2', '3', '4', '5', '6', '7']\n"
     ]
    }
   ],
   "source": [
    "# Match any decimal digit\n",
    "text = \"Order 123, ID: 4567\"\n",
    "pattern1 = r\"\\d\"\n",
    "pattern2 = r\"[0-9]\"\n",
    "\n",
    "matches1 = re.findall(pattern1, text)\n",
    "matches2 = re.findall(pattern2, text)\n",
    "\n",
    "print(\"Matches using \\\\d:\", matches1)  \n",
    "print(\"Matches using [0-9]:\", matches2) "
   ]
  },
  {
   "cell_type": "code",
   "execution_count": 8,
   "metadata": {},
   "outputs": [
    {
     "name": "stdout",
     "output_type": "stream",
     "text": [
      "Matches using \\D: ['P', 'r', 'i', 'c', 'e', ':', ' ', '$']\n",
      "Matches using [^0-9]: ['P', 'r', 'i', 'c', 'e', ':', ' ', '$']\n"
     ]
    }
   ],
   "source": [
    "# Match any non-digit character\n",
    "text = \"Price: $50\"\n",
    "pattern1 = r\"\\D\"\n",
    "pattern2 = r\"[^0-9]\"\n",
    "\n",
    "matches1 = re.findall(pattern1, text)\n",
    "matches2 = re.findall(pattern2, text)\n",
    "\n",
    "print(\"Matches using \\\\D:\", matches1) \n",
    "print(\"Matches using [^0-9]:\", matches2)"
   ]
  },
  {
   "cell_type": "code",
   "execution_count": 9,
   "metadata": {},
   "outputs": [
    {
     "name": "stdout",
     "output_type": "stream",
     "text": [
      "Matches using \\s: ['\\t', '\\n', ' ']\n",
      "Matches using [\\t\\n\\r\\f\\v]: ['\\t', '\\n']\n"
     ]
    }
   ],
   "source": [
    "# Match any whitespace character\n",
    "text = \"Hello\\tWorld\\nNew Line\"\n",
    "pattern1 = r\"\\s\"\n",
    "pattern2 = r\"[\\t\\n\\r\\f\\v]\"\n",
    "\n",
    "matches1 = re.findall(pattern1, text)\n",
    "matches2 = re.findall(pattern2, text)\n",
    "\n",
    "print(\"Matches using \\\\s:\", matches1)\n",
    "print(\"Matches using [\\\\t\\\\n\\\\r\\\\f\\\\v]:\", matches2)"
   ]
  },
  {
   "cell_type": "code",
   "execution_count": 10,
   "metadata": {},
   "outputs": [
    {
     "name": "stdout",
     "output_type": "stream",
     "text": [
      "Matches using \\S: ['P', 'y', 't', 'h', 'o', 'n', '3', '.', '9', 'i', 's', 'a', 'w', 'e', 's', 'o', 'm', 'e', '!']\n",
      "Matches using [^\\t\\n\\r\\f\\v]: ['P', 'y', 't', 'h', 'o', 'n', ' ', '3', '.', '9', 'i', 's', 'a', 'w', 'e', 's', 'o', 'm', 'e', '!']\n"
     ]
    }
   ],
   "source": [
    "# Match any non-whitespace character\n",
    "text = \"Python 3.9\\tis\\nawesome!\"\n",
    "pattern1 = r\"\\S\"\n",
    "pattern2 = r\"[^\\t\\n\\r\\f\\v]\"\n",
    "\n",
    "matches1 = re.findall(pattern1, text)\n",
    "matches2 = re.findall(pattern2, text)\n",
    "\n",
    "print(\"Matches using \\\\S:\", matches1)\n",
    "print(\"Matches using [^\\\\t\\\\n\\\\r\\\\f\\\\v]:\", matches2)"
   ]
  },
  {
   "cell_type": "code",
   "execution_count": 11,
   "metadata": {},
   "outputs": [
    {
     "name": "stdout",
     "output_type": "stream",
     "text": [
      "Matches using \\w: ['H', 'e', 'l', 'l', 'o', '_', '1', '2', '3']\n",
      "Matches using [a-zA-Z0-9_]: ['H', 'e', 'l', 'l', 'o', '_', '1', '2', '3']\n"
     ]
    }
   ],
   "source": [
    "# Match any alphanumeric character\n",
    "text = \"Hello_123!\"\n",
    "pattern1 = r\"\\w\"\n",
    "pattern2 = r\"[a-zA-Z0-9_]\"\n",
    "\n",
    "matches1 = re.findall(pattern1, text)\n",
    "matches2 = re.findall(pattern2, text)\n",
    "\n",
    "print(\"Matches using \\\\w:\", matches1)\n",
    "print(\"Matches using [a-zA-Z0-9_]:\", matches2)"
   ]
  },
  {
   "cell_type": "code",
   "execution_count": 12,
   "metadata": {},
   "outputs": [
    {
     "name": "stdout",
     "output_type": "stream",
     "text": [
      "Matches using \\W: [',', ' ', '!', ' ', '.']\n",
      "Matches using [^a-zA-Z0-9_]: [',', ' ', '!', ' ', '.']\n"
     ]
    }
   ],
   "source": [
    "# Match any non-alphanumeric character\n",
    "text = \"Hello, World! 2024.\"\n",
    "pattern1 = r\"\\W\"\n",
    "pattern2 = r\"[^a-zA-Z0-9_]\"\n",
    "\n",
    "matches1 = re.findall(pattern1, text)\n",
    "matches2 = re.findall(pattern2, text)\n",
    "\n",
    "print(\"Matches using \\\\W:\", matches1)\n",
    "print(\"Matches using [^a-zA-Z0-9_]:\", matches2)"
   ]
  },
  {
   "cell_type": "markdown",
   "metadata": {},
   "source": [
    "# * asterisk/star metacharacter"
   ]
  },
  {
   "cell_type": "code",
   "execution_count": 13,
   "metadata": {},
   "outputs": [
    {
     "name": "stdout",
     "output_type": "stream",
     "text": [
      "['8', '23', '886', '4567', '78453']\n"
     ]
    }
   ],
   "source": [
    "str1 = \"Numbers are 8,23, 886, 4567, 78453\" \n",
    "# asterisk sign(*) to match 0 or more repetitions \n",
    "\n",
    "result = re.findall(r\"\\d\\d*\", str1) \n",
    "print(result) "
   ]
  },
  {
   "cell_type": "markdown",
   "metadata": {},
   "source": [
    "# + Plus metacharacter"
   ]
  },
  {
   "cell_type": "code",
   "execution_count": 14,
   "metadata": {},
   "outputs": [
    {
     "name": "stdout",
     "output_type": "stream",
     "text": [
      "['23', '886', '4567', '78453']\n"
     ]
    }
   ],
   "source": [
    "str2 = \"Numbers are 8,23, 886, 4567, 78453\"\n",
    "# Plus sign(+) to match 1 or more repetitions\n",
    "\n",
    "result2 = re.findall(r\"\\d\\d+\", str1)\n",
    "print(result2)\n"
   ]
  },
  {
   "cell_type": "markdown",
   "metadata": {},
   "source": [
    "# Metacharacter    *   and    +\n",
    "* Used to match either zero, one or many occurrences\n",
    "+ Used to match either one or many occurrences"
   ]
  },
  {
   "cell_type": "code",
   "execution_count": 15,
   "metadata": {},
   "outputs": [
    {
     "name": "stdout",
     "output_type": "stream",
     "text": [
      "['ct', 'cat']\n",
      "['cat']\n"
     ]
    }
   ],
   "source": [
    "str3 = \"ct likes cat\"\n",
    "\n",
    "result3 = re.findall('ca*t', str3)\n",
    "print(result3)\n",
    "\n",
    "result4 = re.findall('ca+t', str3)\n",
    "print(result4)"
   ]
  },
  {
   "cell_type": "markdown",
   "metadata": {},
   "source": [
    "# Metacharacter    ?\n",
    "Used to match either one or zero occurrence"
   ]
  },
  {
   "cell_type": "code",
   "execution_count": 16,
   "metadata": {},
   "outputs": [
    {
     "name": "stdout",
     "output_type": "stream",
     "text": [
      "['copy-', 'copy']\n"
     ]
    }
   ],
   "source": [
    "str4 = \"poppy likes to copy-cat. bobby likes to copy things.\"\n",
    "\n",
    "result5 = re.findall('copy-?', str4)\n",
    "print(result5)"
   ]
  },
  {
   "cell_type": "markdown",
   "metadata": {},
   "source": [
    "# Metacharacter  { }\n",
    "Used to match the occurences based on the specified min and max values"
   ]
  },
  {
   "cell_type": "code",
   "execution_count": 17,
   "metadata": {},
   "outputs": [
    {
     "name": "stdout",
     "output_type": "stream",
     "text": [
      "['bok', 'book', 'boook']\n"
     ]
    }
   ],
   "source": [
    "str5 = \"poppy likes to read boks. bobby likes to read books. ronnie likes to read boooks. they all love booooooks\"\n",
    "\n",
    "result6 = re.findall('bo{1,3}k', str5)\n",
    "print(result6)\n",
    "                    "
   ]
  }
 ],
 "metadata": {
  "kernelspec": {
   "display_name": "Python 3",
   "language": "python",
   "name": "python3"
  },
  "language_info": {
   "codemirror_mode": {
    "name": "ipython",
    "version": 3
   },
   "file_extension": ".py",
   "mimetype": "text/x-python",
   "name": "python",
   "nbconvert_exporter": "python",
   "pygments_lexer": "ipython3",
   "version": "3.6.5"
  }
 },
 "nbformat": 4,
 "nbformat_minor": 5
}

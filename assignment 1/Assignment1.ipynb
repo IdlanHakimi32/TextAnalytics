{
 "cells": [
  {
   "cell_type": "code",
   "execution_count": 1,
   "id": "60850367-c119-43d6-b3a8-4f1c74b440f9",
   "metadata": {},
   "outputs": [
    {
     "name": "stdin",
     "output_type": "stream",
     "text": [
      "Solve the CAPTCHA in the opened browser, then press Enter to continue... \n"
     ]
    },
    {
     "name": "stdout",
     "output_type": "stream",
     "text": [
      "Fetching: https://my.lazada.com.my/pdp/review/getReviewList?itemId=3115027473&pageSize=5&filter=0&sort=0&pageNo=1\n",
      "Fetching: https://my.lazada.com.my/pdp/review/getReviewList?itemId=3115027473&pageSize=5&filter=0&sort=0&pageNo=2\n",
      "Fetching: https://my.lazada.com.my/pdp/review/getReviewList?itemId=3115027473&pageSize=5&filter=0&sort=0&pageNo=3\n",
      "Fetching: https://my.lazada.com.my/pdp/review/getReviewList?itemId=3115027473&pageSize=5&filter=0&sort=0&pageNo=4\n",
      "Fetching: https://my.lazada.com.my/pdp/review/getReviewList?itemId=3115027473&pageSize=5&filter=0&sort=0&pageNo=5\n",
      "Reviews saved to SwissWatchReview.csv\n"
     ]
    }
   ],
   "source": [
    "# Import necessary modules\n",
    "from selenium import webdriver  # Controls the Chrome browser\n",
    "from selenium.webdriver.common.by import By  # Helps locate elements on a webpage\n",
    "import time  # Used to add delays in execution\n",
    "import json  # Handles JSON data parsing\n",
    "import csv  # Provides functionality for writing CSV files\n",
    "import re  # Provides support for regular expressions\n",
    "\n",
    "# Define the URL of the Lazada product page\n",
    "url = \"https://www.lazada.com.my/products/aiyishiswiss-original-genuine-automatic-mechanical-watch-mens-waterproof-luminous-calendar-imported-movement-business-steel-watch-i3115027473-s15622291423.html?pvid=c2637641-278d-487f-a76a-a48f0dbd34e0&search=jfy&scm=1007.45039.429976.0&priceCompare=skuId%3A15622291423%3Bsource%3Atpp-recommend-plugin-32104%3Bsn%3Ac2637641-278d-487f-a76a-a48f0dbd34e0%3BoriginPrice%3A2224%3BdisplayPrice%3A2224%3BsinglePromotionId%3A900000037192458%3BsingleToolCode%3ApromPrice%3BvoucherPricePlugin%3A0%3Btimestamp%3A1742043396081&spm=a2o4k.homepage.just4u.d_3115027473\"\n",
    "# Use a regular expression to extract the item ID from the URL\n",
    "match = re.search(r\"i(\\d+)-s\", url)\n",
    "item_id = match.group(1)  # Extract the matched item ID\n",
    "\n",
    "# Configure Selenium WebDriver options\n",
    "options = webdriver.ChromeOptions()\n",
    "options.add_argument(\"start-maximized\")  # Open Chrome in maximized mode\n",
    "options.add_argument(\"--disable-blink-features=AutomationControlled\")  # Prevent detection by websites\n",
    "\n",
    "# Initialize the Selenium WebDriver (Chrome)\n",
    "driver = webdriver.Chrome(options=options)\n",
    "\n",
    "# Construct the Lazada review API URL using the extracted item ID\n",
    "base_url = f'https://my.lazada.com.my/pdp/review/getReviewList?itemId={item_id}&pageSize=5&filter=0&sort=0&pageNo='\n",
    "\n",
    "# Open the first review page to allow manual CAPTCHA solving\n",
    "driver.get(base_url + \"1\")\n",
    "\n",
    "# 🛑 Pause execution and wait for the user to solve the CAPTCHA manually\n",
    "input(\"Solve the CAPTCHA in the opened browser, then press Enter to continue...\")\n",
    "\n",
    "# Open a CSV file to store the reviews\n",
    "with open(\"SwissWatchReview.csv\", \"w\", newline=\"\", encoding=\"utf-8\") as file:\n",
    "    writer = csv.writer(file)\n",
    "    writer.writerow([\"Buyer Name\", \"Review\", \"Date\"])  # Write CSV header\n",
    "\n",
    "    # Loop through the first 5 pages of reviews\n",
    "    for page in range(1, 6):\n",
    "        url = base_url + str(page)  # Construct the URL for the current page\n",
    "        print(f\"Fetching: {url}\")  # Display the URL being fetched\n",
    "        driver.get(url)  # Open the page in the browser\n",
    "        time.sleep(3)  # Wait for the page to load\n",
    "\n",
    "        # Extract the page content (which is in JSON format)\n",
    "        page_source = driver.find_element(By.TAG_NAME, \"body\").text\n",
    "        data = json.loads(page_source)  # Parse the JSON response\n",
    "\n",
    "        # Extract reviews from \"items\", ensuring only top-level reviews are considered\n",
    "        reviews = [review for review in data.get(\"model\", {}).get(\"items\", []) if \"reviewTime\" in review]\n",
    "\n",
    "        # Loop through each review and extract relevant details\n",
    "        for review in reviews:\n",
    "            writer.writerow([\n",
    "                review.get(\"buyerName\", \"N/A\"),  # Extract buyer name\n",
    "                review.get(\"reviewContent\", \"N/A\").replace(\"\\n\", \" \"),  # Extract and clean review content\n",
    "                review.get(\"reviewTime\", \"N/A\")  # Extract review date\n",
    "            ])\n",
    "\n",
    "print(\"Reviews saved to SwissWatchReview.csv\")  # Confirm successful saving\n",
    "\n",
    "# Close the Selenium WebDriver\n",
    "driver.quit()"
   ]
  }
 ],
 "metadata": {
  "kernelspec": {
   "display_name": "Python 3 (ipykernel)",
   "language": "python",
   "name": "python3"
  },
  "language_info": {
   "codemirror_mode": {
    "name": "ipython",
    "version": 3
   },
   "file_extension": ".py",
   "mimetype": "text/x-python",
   "name": "python",
   "nbconvert_exporter": "python",
   "pygments_lexer": "ipython3",
   "version": "3.12.7"
  }
 },
 "nbformat": 4,
 "nbformat_minor": 5
}
